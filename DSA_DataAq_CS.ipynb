{
  "nbformat": 4,
  "nbformat_minor": 0,
  "metadata": {
    "colab": {
      "provenance": [],
      "authorship_tag": "ABX9TyMjw4H9g2WivjdDwxtkYQ2J",
      "include_colab_link": true
    },
    "kernelspec": {
      "name": "python3",
      "display_name": "Python 3"
    },
    "language_info": {
      "name": "python"
    }
  },
  "cells": [
    {
      "cell_type": "markdown",
      "metadata": {
        "id": "view-in-github",
        "colab_type": "text"
      },
      "source": [
        "<a href=\"https://colab.research.google.com/github/hiba0903/DSA_CS_Ast/blob/main/DSA_DataAq_CS.ipynb\" target=\"_parent\"><img src=\"https://colab.research.google.com/assets/colab-badge.svg\" alt=\"Open In Colab\"/></a>"
      ]
    },
    {
      "cell_type": "markdown",
      "source": [
        "○ Load the dataset into a pandas DataFrame.\n"
      ],
      "metadata": {
        "id": "g45SgQcjpEpV"
      }
    },
    {
      "cell_type": "code",
      "execution_count": null,
      "metadata": {
        "colab": {
          "base_uri": "https://localhost:8080/"
        },
        "id": "aI0XCNTNn7eY",
        "outputId": "04892503-1e47-4a11-ff4a-6de19c2a3e6a"
      },
      "outputs": [
        {
          "output_type": "stream",
          "name": "stdout",
          "text": [
            "     Unnamed: 0.1  Unnamed: 0                      food  Caloric Value  \\\n",
            "0               0           0    margarine with yoghurt             88   \n",
            "1               1           1     sunflower seed butter             99   \n",
            "2               2           2              hazelnut oil            120   \n",
            "3               3           3         menhaden fish oil           1966   \n",
            "4               4           4        cod liver fish oil            123   \n",
            "..            ...         ...                       ...            ...   \n",
            "717           717         717                  jews ear             25   \n",
            "718           718         718           enoki mushrooms              1   \n",
            "719           719         719           morel mushrooms              4   \n",
            "720           720         720  portabella mushrooms raw             19   \n",
            "721           721         721           oyster mushroom              5   \n",
            "\n",
            "         Fat  Saturated Fats  Monounsaturated Fats  Polyunsaturated Fats  \\\n",
            "0      9.800           1.900                 5.600                 2.000   \n",
            "1      8.800           0.700                 6.200                 1.600   \n",
            "2     13.600           1.000                10.600                 1.400   \n",
            "3    218.000          66.300                58.200                74.500   \n",
            "4     13.600           3.100                 6.400                 3.100   \n",
            "..       ...             ...                   ...                   ...   \n",
            "717    0.095           0.000                 0.000                 0.000   \n",
            "718    0.099           0.027                 0.000                 0.010   \n",
            "719    0.070           0.056                 0.031                 0.007   \n",
            "720    0.300           0.036                 0.016                 0.100   \n",
            "721    0.035           0.016                 0.039                 0.099   \n",
            "\n",
            "     Carbohydrates  Sugars  ...  Calcium  Copper   Iron  Magnesium  Manganese  \\\n",
            "0            0.073   0.000  ...      2.8   0.001  0.027      0.300      0.000   \n",
            "1            3.700   1.700  ...     10.2   0.300  0.700     49.800      0.300   \n",
            "2            0.000   0.000  ...      0.0   0.000  0.000      0.000      0.000   \n",
            "3            0.000   0.000  ...      0.0   0.000  0.000      0.000      0.000   \n",
            "4            0.000   0.000  ...      0.0   0.000  0.000      0.000      0.000   \n",
            "..             ...     ...  ...      ...     ...    ...        ...        ...   \n",
            "717          6.700   0.000  ...     15.8   0.400  0.600     24.800      0.040   \n",
            "718          0.200   0.034  ...      0.0   0.000  0.099      0.034      0.500   \n",
            "719          0.700   0.096  ...      0.0   5.500  0.056      1.600      2.500   \n",
            "720          3.300   2.200  ...      2.6   0.200  0.300      0.000      0.092   \n",
            "721          0.900   0.200  ...      0.0   0.500  0.008      0.200      2.700   \n",
            "\n",
            "     Phosphorus  Potassium  Selenium   Zinc  Nutrition Density  \n",
            "0         2.200        3.5     0.000  0.008             12.971  \n",
            "1       106.600       92.2     0.075  0.800             27.500  \n",
            "2         0.000        0.0     0.000  0.000             13.600  \n",
            "3         0.000        0.0     0.000  0.000            218.000  \n",
            "4         0.000        0.0     0.000  0.000             17.700  \n",
            "..          ...        ...       ...    ...                ...  \n",
            "717      13.900       42.6     0.034  0.700             24.249  \n",
            "718       0.015        3.2    10.800  0.096              0.433  \n",
            "719       0.060       25.0    53.000  0.069              1.727  \n",
            "720      92.900      313.0     0.015  0.500              9.400  \n",
            "721       0.055       18.0    63.000  0.048              1.804  \n",
            "\n",
            "[722 rows x 37 columns]\n"
          ]
        }
      ],
      "source": [
        "import pandas as pd  # Import the pandas library\n",
        "\n",
        "df = pd.read_csv(\"/content/Food Nutrition Dataset.csv\")\n",
        "print(df)"
      ]
    },
    {
      "cell_type": "markdown",
      "source": [
        "Display the first few rows of the DataFrame to understand its structure."
      ],
      "metadata": {
        "id": "T83QsIWUpKyM"
      }
    },
    {
      "cell_type": "code",
      "source": [
        "print(df.head())"
      ],
      "metadata": {
        "colab": {
          "base_uri": "https://localhost:8080/"
        },
        "id": "u-tBMV34pBP-",
        "outputId": "62af7ad7-81c2-4ce7-9804-0c205d001a3d"
      },
      "execution_count": null,
      "outputs": [
        {
          "output_type": "stream",
          "name": "stdout",
          "text": [
            "   Unnamed: 0.1  Unnamed: 0                    food  Caloric Value    Fat  \\\n",
            "0             0           0  margarine with yoghurt             88    9.8   \n",
            "1             1           1   sunflower seed butter             99    8.8   \n",
            "2             2           2            hazelnut oil            120   13.6   \n",
            "3             3           3       menhaden fish oil           1966  218.0   \n",
            "4             4           4      cod liver fish oil            123   13.6   \n",
            "\n",
            "   Saturated Fats  Monounsaturated Fats  Polyunsaturated Fats  Carbohydrates  \\\n",
            "0             1.9                   5.6                   2.0          0.073   \n",
            "1             0.7                   6.2                   1.6          3.700   \n",
            "2             1.0                  10.6                   1.4          0.000   \n",
            "3            66.3                  58.2                  74.5          0.000   \n",
            "4             3.1                   6.4                   3.1          0.000   \n",
            "\n",
            "   Sugars  ...  Calcium  Copper   Iron  Magnesium  Manganese  Phosphorus  \\\n",
            "0     0.0  ...      2.8   0.001  0.027        0.3        0.0         2.2   \n",
            "1     1.7  ...     10.2   0.300  0.700       49.8        0.3       106.6   \n",
            "2     0.0  ...      0.0   0.000  0.000        0.0        0.0         0.0   \n",
            "3     0.0  ...      0.0   0.000  0.000        0.0        0.0         0.0   \n",
            "4     0.0  ...      0.0   0.000  0.000        0.0        0.0         0.0   \n",
            "\n",
            "   Potassium  Selenium   Zinc  Nutrition Density  \n",
            "0        3.5     0.000  0.008             12.971  \n",
            "1       92.2     0.075  0.800             27.500  \n",
            "2        0.0     0.000  0.000             13.600  \n",
            "3        0.0     0.000  0.000            218.000  \n",
            "4        0.0     0.000  0.000             17.700  \n",
            "\n",
            "[5 rows x 37 columns]\n"
          ]
        }
      ]
    },
    {
      "cell_type": "markdown",
      "source": [
        "Print the summary statistics of the dataset.\n"
      ],
      "metadata": {
        "id": "kSLxOyKHrHQV"
      }
    },
    {
      "cell_type": "code",
      "source": [
        "print(df.info())"
      ],
      "metadata": {
        "colab": {
          "base_uri": "https://localhost:8080/"
        },
        "id": "sqSq8VMHpY1W",
        "outputId": "76e30fc9-5251-49f4-eebc-d81e3d3f1882"
      },
      "execution_count": null,
      "outputs": [
        {
          "output_type": "stream",
          "name": "stdout",
          "text": [
            "<class 'pandas.core.frame.DataFrame'>\n",
            "RangeIndex: 722 entries, 0 to 721\n",
            "Data columns (total 37 columns):\n",
            " #   Column                Non-Null Count  Dtype  \n",
            "---  ------                --------------  -----  \n",
            " 0   Unnamed: 0.1          722 non-null    int64  \n",
            " 1   Unnamed: 0            722 non-null    int64  \n",
            " 2   food                  722 non-null    object \n",
            " 3   Caloric Value         722 non-null    int64  \n",
            " 4   Fat                   722 non-null    float64\n",
            " 5   Saturated Fats        722 non-null    float64\n",
            " 6   Monounsaturated Fats  722 non-null    float64\n",
            " 7   Polyunsaturated Fats  722 non-null    float64\n",
            " 8   Carbohydrates         722 non-null    float64\n",
            " 9   Sugars                722 non-null    float64\n",
            " 10  Protein               722 non-null    float64\n",
            " 11  Dietary Fiber         722 non-null    float64\n",
            " 12  Cholesterol           722 non-null    float64\n",
            " 13  Sodium                722 non-null    float64\n",
            " 14  Water                 722 non-null    float64\n",
            " 15  Vitamin A             722 non-null    float64\n",
            " 16  Vitamin B1            722 non-null    float64\n",
            " 17  Vitamin B11           722 non-null    float64\n",
            " 18  Vitamin B12           722 non-null    float64\n",
            " 19  Vitamin B2            722 non-null    float64\n",
            " 20  Vitamin B3            722 non-null    float64\n",
            " 21  Vitamin B5            722 non-null    float64\n",
            " 22  Vitamin B6            722 non-null    float64\n",
            " 23  Vitamin C             722 non-null    float64\n",
            " 24  Vitamin D             722 non-null    float64\n",
            " 25  Vitamin E             722 non-null    float64\n",
            " 26  Vitamin K             722 non-null    float64\n",
            " 27  Calcium               722 non-null    float64\n",
            " 28  Copper                722 non-null    float64\n",
            " 29  Iron                  722 non-null    float64\n",
            " 30  Magnesium             722 non-null    float64\n",
            " 31  Manganese             722 non-null    float64\n",
            " 32  Phosphorus            722 non-null    float64\n",
            " 33  Potassium             722 non-null    float64\n",
            " 34  Selenium              722 non-null    float64\n",
            " 35  Zinc                  722 non-null    float64\n",
            " 36  Nutrition Density     722 non-null    float64\n",
            "dtypes: float64(33), int64(3), object(1)\n",
            "memory usage: 208.8+ KB\n",
            "None\n"
          ]
        }
      ]
    },
    {
      "cell_type": "markdown",
      "source": [
        "Q1: What is the size of the dataset? (Number of rows and columns)"
      ],
      "metadata": {
        "id": "w4cUVRurrQf0"
      }
    },
    {
      "cell_type": "code",
      "source": [
        "#retrieving rows and columns using shape()\n",
        "\n",
        "row,col = df.shape\n",
        "print(row,\"x\",col)"
      ],
      "metadata": {
        "colab": {
          "base_uri": "https://localhost:8080/"
        },
        "id": "LreoxqiXrU7V",
        "outputId": "9604ae54-8a1a-4f80-fad6-77bc58d310e1"
      },
      "execution_count": null,
      "outputs": [
        {
          "output_type": "stream",
          "name": "stdout",
          "text": [
            "722 x 37\n"
          ]
        }
      ]
    },
    {
      "cell_type": "markdown",
      "source": [
        "2: What are the data types of each column?"
      ],
      "metadata": {
        "id": "m45QqBCpsKwd"
      }
    },
    {
      "cell_type": "code",
      "source": [
        "#dtypes returns the datatypes\n",
        "\n",
        "print(df.dtypes)"
      ],
      "metadata": {
        "colab": {
          "base_uri": "https://localhost:8080/"
        },
        "id": "U3NQEBxAr-xT",
        "outputId": "a339eb75-3dfc-4c83-8870-26a9eacbed93"
      },
      "execution_count": null,
      "outputs": [
        {
          "output_type": "stream",
          "name": "stdout",
          "text": [
            "Unnamed: 0.1              int64\n",
            "Unnamed: 0                int64\n",
            "food                     object\n",
            "Caloric Value             int64\n",
            "Fat                     float64\n",
            "Saturated Fats          float64\n",
            "Monounsaturated Fats    float64\n",
            "Polyunsaturated Fats    float64\n",
            "Carbohydrates           float64\n",
            "Sugars                  float64\n",
            "Protein                 float64\n",
            "Dietary Fiber           float64\n",
            "Cholesterol             float64\n",
            "Sodium                  float64\n",
            "Water                   float64\n",
            "Vitamin A               float64\n",
            "Vitamin B1              float64\n",
            "Vitamin B11             float64\n",
            "Vitamin B12             float64\n",
            "Vitamin B2              float64\n",
            "Vitamin B3              float64\n",
            "Vitamin B5              float64\n",
            "Vitamin B6              float64\n",
            "Vitamin C               float64\n",
            "Vitamin D               float64\n",
            "Vitamin E               float64\n",
            "Vitamin K               float64\n",
            "Calcium                 float64\n",
            "Copper                  float64\n",
            "Iron                    float64\n",
            "Magnesium               float64\n",
            "Manganese               float64\n",
            "Phosphorus              float64\n",
            "Potassium               float64\n",
            "Selenium                float64\n",
            "Zinc                    float64\n",
            "Nutrition Density       float64\n",
            "dtype: object\n"
          ]
        }
      ]
    },
    {
      "cell_type": "markdown",
      "source": [
        "Are there any missing values in the dataset? If so, which columns have\n",
        "missing values and how many?"
      ],
      "metadata": {
        "id": "4Ky37JGRse9E"
      }
    },
    {
      "cell_type": "code",
      "source": [
        "# Count the missing in each cols\n",
        "missing = df.isnull().sum()\n",
        "\n",
        "#cols that have no missing values\n",
        "null_cols = missing[missing > 0]\n",
        "\n",
        "# Print the columns with missing values and their counts\n",
        "print(null_cols)\n",
        "\n",
        "#the series returns the cols with null values aling with th count"
      ],
      "metadata": {
        "colab": {
          "base_uri": "https://localhost:8080/"
        },
        "id": "eX0XnXXksXK7",
        "outputId": "ab3122d8-8f0f-4b23-8170-b75c002f43df"
      },
      "execution_count": null,
      "outputs": [
        {
          "output_type": "stream",
          "name": "stdout",
          "text": [
            "     Unnamed: 0.1  Unnamed: 0   food  Caloric Value    Fat  Saturated Fats  \\\n",
            "0           False       False  False          False  False           False   \n",
            "1           False       False  False          False  False           False   \n",
            "2           False       False  False          False  False           False   \n",
            "3           False       False  False          False  False           False   \n",
            "4           False       False  False          False  False           False   \n",
            "..            ...         ...    ...            ...    ...             ...   \n",
            "717         False       False  False          False  False           False   \n",
            "718         False       False  False          False  False           False   \n",
            "719         False       False  False          False  False           False   \n",
            "720         False       False  False          False  False           False   \n",
            "721         False       False  False          False  False           False   \n",
            "\n",
            "     Monounsaturated Fats  Polyunsaturated Fats  Carbohydrates  Sugars  ...  \\\n",
            "0                   False                 False          False   False  ...   \n",
            "1                   False                 False          False   False  ...   \n",
            "2                   False                 False          False   False  ...   \n",
            "3                   False                 False          False   False  ...   \n",
            "4                   False                 False          False   False  ...   \n",
            "..                    ...                   ...            ...     ...  ...   \n",
            "717                 False                 False          False   False  ...   \n",
            "718                 False                 False          False   False  ...   \n",
            "719                 False                 False          False   False  ...   \n",
            "720                 False                 False          False   False  ...   \n",
            "721                 False                 False          False   False  ...   \n",
            "\n",
            "     Calcium  Copper   Iron  Magnesium  Manganese  Phosphorus  Potassium  \\\n",
            "0      False   False  False      False      False       False      False   \n",
            "1      False   False  False      False      False       False      False   \n",
            "2      False   False  False      False      False       False      False   \n",
            "3      False   False  False      False      False       False      False   \n",
            "4      False   False  False      False      False       False      False   \n",
            "..       ...     ...    ...        ...        ...         ...        ...   \n",
            "717    False   False  False      False      False       False      False   \n",
            "718    False   False  False      False      False       False      False   \n",
            "719    False   False  False      False      False       False      False   \n",
            "720    False   False  False      False      False       False      False   \n",
            "721    False   False  False      False      False       False      False   \n",
            "\n",
            "     Selenium   Zinc  Nutrition Density  \n",
            "0       False  False              False  \n",
            "1       False  False              False  \n",
            "2       False  False              False  \n",
            "3       False  False              False  \n",
            "4       False  False              False  \n",
            "..        ...    ...                ...  \n",
            "717     False  False              False  \n",
            "718     False  False              False  \n",
            "719     False  False              False  \n",
            "720     False  False              False  \n",
            "721     False  False              False  \n",
            "\n",
            "[722 rows x 37 columns]\n",
            "    Unnamed: 0.1 Unnamed: 0 food Caloric Value  Fat Saturated Fats  \\\n",
            "0            NaN        NaN  NaN           NaN  NaN            NaN   \n",
            "1            NaN        NaN  NaN           NaN  NaN            NaN   \n",
            "2            NaN        NaN  NaN           NaN  NaN            NaN   \n",
            "3            NaN        NaN  NaN           NaN  NaN            NaN   \n",
            "4            NaN        NaN  NaN           NaN  NaN            NaN   \n",
            "..           ...        ...  ...           ...  ...            ...   \n",
            "717          NaN        NaN  NaN           NaN  NaN            NaN   \n",
            "718          NaN        NaN  NaN           NaN  NaN            NaN   \n",
            "719          NaN        NaN  NaN           NaN  NaN            NaN   \n",
            "720          NaN        NaN  NaN           NaN  NaN            NaN   \n",
            "721          NaN        NaN  NaN           NaN  NaN            NaN   \n",
            "\n",
            "    Monounsaturated Fats Polyunsaturated Fats Carbohydrates Sugars  ...  \\\n",
            "0                    NaN                  NaN           NaN    NaN  ...   \n",
            "1                    NaN                  NaN           NaN    NaN  ...   \n",
            "2                    NaN                  NaN           NaN    NaN  ...   \n",
            "3                    NaN                  NaN           NaN    NaN  ...   \n",
            "4                    NaN                  NaN           NaN    NaN  ...   \n",
            "..                   ...                  ...           ...    ...  ...   \n",
            "717                  NaN                  NaN           NaN    NaN  ...   \n",
            "718                  NaN                  NaN           NaN    NaN  ...   \n",
            "719                  NaN                  NaN           NaN    NaN  ...   \n",
            "720                  NaN                  NaN           NaN    NaN  ...   \n",
            "721                  NaN                  NaN           NaN    NaN  ...   \n",
            "\n",
            "    Calcium Copper Iron Magnesium Manganese Phosphorus Potassium Selenium  \\\n",
            "0       NaN    NaN  NaN       NaN       NaN        NaN       NaN      NaN   \n",
            "1       NaN    NaN  NaN       NaN       NaN        NaN       NaN      NaN   \n",
            "2       NaN    NaN  NaN       NaN       NaN        NaN       NaN      NaN   \n",
            "3       NaN    NaN  NaN       NaN       NaN        NaN       NaN      NaN   \n",
            "4       NaN    NaN  NaN       NaN       NaN        NaN       NaN      NaN   \n",
            "..      ...    ...  ...       ...       ...        ...       ...      ...   \n",
            "717     NaN    NaN  NaN       NaN       NaN        NaN       NaN      NaN   \n",
            "718     NaN    NaN  NaN       NaN       NaN        NaN       NaN      NaN   \n",
            "719     NaN    NaN  NaN       NaN       NaN        NaN       NaN      NaN   \n",
            "720     NaN    NaN  NaN       NaN       NaN        NaN       NaN      NaN   \n",
            "721     NaN    NaN  NaN       NaN       NaN        NaN       NaN      NaN   \n",
            "\n",
            "    Zinc Nutrition Density  \n",
            "0    NaN               NaN  \n",
            "1    NaN               NaN  \n",
            "2    NaN               NaN  \n",
            "3    NaN               NaN  \n",
            "4    NaN               NaN  \n",
            "..   ...               ...  \n",
            "717  NaN               NaN  \n",
            "718  NaN               NaN  \n",
            "719  NaN               NaN  \n",
            "720  NaN               NaN  \n",
            "721  NaN               NaN  \n",
            "\n",
            "[722 rows x 37 columns]\n"
          ]
        }
      ]
    },
    {
      "cell_type": "markdown",
      "source": [
        "What are the unique values in a categorical column of your choice? How\n",
        "many unique values are there?"
      ],
      "metadata": {
        "id": "XmdW6Upbu839"
      }
    },
    {
      "cell_type": "code",
      "source": [
        "# categorical column selected\n",
        "cat_col = 'food'\n",
        "\n",
        "# Get unique values\n",
        "uni_val = df[cat_col].unique()\n",
        "\n",
        "# Count of unique values\n",
        "num_uni_val = len(uni_val)\n",
        "\n",
        "# Print the unique values and their count\n",
        "print(\"Unique values in \",cat_col)\n",
        "print(\"\\n\",uni_val)\n",
        "print(\"\\nNumber of unique values: \",num_uni_val)\n"
      ],
      "metadata": {
        "colab": {
          "base_uri": "https://localhost:8080/"
        },
        "id": "BoIfFvVytDf1",
        "outputId": "1a3119f8-e260-4c83-f783-9b17e9bb028a"
      },
      "execution_count": null,
      "outputs": [
        {
          "output_type": "stream",
          "name": "stdout",
          "text": [
            "Unique values in  food\n",
            "\n",
            " ['margarine with yoghurt' 'sunflower seed butter' 'hazelnut oil'\n",
            " 'menhaden fish oil' 'cod liver fish oil' 'sardine oil' 'cupu assu oil'\n",
            " 'lard' 'sesame butter' 'margarine spread' 'lard vegetable oil'\n",
            " 'shortening' 'vegetable oil spread' 'cottonseed oil'\n",
            " 'vegetable oil spread fat free' 'soy margarine' 'margarine with salt'\n",
            " 'margarine' 'salmon fish oil' 'nutmeg butter oil' 'almond butter'\n",
            " 'sour cream shoprite' 'ucuhuba butter oil' 'chicken fat'\n",
            " 'herring fish oil' 'bacon grease' 'turkey fat' 'beef tallow' 'goose fat'\n",
            " 'duck fat' 'mutton tallow' 'grapeseed oil' 'sheanut oil' 'almond oil'\n",
            " 'sunflower oil' 'cashew butter' 'canola oil' 'babassu oil' 'teaseed oil'\n",
            " 'avocado oil' 'vegetable palm kernel oil' 'coconut oil' 'safflower oil'\n",
            " 'vegetable oil' 'apricot kernel oil' 'peanut oil' 'poppyseed oil'\n",
            " 'flaxseed oil' 'tomatoseed oil' 'wheat germ oil' 'sesame oil'\n",
            " 'corn granola oil' 'cocoa butter oil' 'olive oil' 'palm kernel oil'\n",
            " 'mustard oil' 'rice bran oil' 'vegetable macaroni dry'\n",
            " 'chow mein noodles' 'chinese noodles' 'vegetable macaroni cooked'\n",
            " 'corn pasta dry' 'egg noodles dry' 'whole wheat spaghetti dry'\n",
            " 'japanese soba noodles dry' 'rice noodles dry' 'spinach spaghetti dry'\n",
            " 'egg noodles cooked' 'japanese somen noodles cooked'\n",
            " 'whole wheat macaroni dry' 'pasta marinara and ground beef sauce'\n",
            " 'macaroni raw' 'spaghetti dry' 'fusilli cucina'\n",
            " 'japanese somen noodles dry' 'pasta cooked' 'macaroni cooked'\n",
            " 'spinach egg noodles dry' 'japanese soba noodles cooked'\n",
            " 'rice noodles cooked' 'whole wheat macaroni cooked' 'spaghetti cooked'\n",
            " 'whole wheat spaghetti cooked' 'waffle' 'baked taco shell' 'puff pastry'\n",
            " 'blueberry muffin' 'bread crumbs' 'warm cinnamon roll mcdonalds'\n",
            " 'corn muffin' 'tortilla' 'croutons seasoned' 'buttermilk waffle'\n",
            " 'flour tortilla' 'glazed donut' 'corn tortilla' 'muffin' 'croutons'\n",
            " 'donut with jelly filling' 'sweet cinnamon rolls' 'oat bran muffin'\n",
            " 'french cruller donut' 'pancakes' 'chocolate donut' 'sweet cheese rolls'\n",
            " 'eclair' 'donut with cream filling' 'fruit toaster pastry' 'donut'\n",
            " 'pancakes whole wheat' 'keikitos' 'zwieback' 'chocolate coated donut'\n",
            " 'waffle toasted' 'cinnamon toaster pastry' 'wheat bran bread'\n",
            " 'white bread' 'oat bran bread' 'whole wheat bread natures own'\n",
            " 'high protein bread dr zaks' 'wheat bread' 'egg bread toasted'\n",
            " 'butter toastbrot ja' 'vienna bread toasted' 'vienna bread'\n",
            " 'protein bread' 'banana bread' 'rice bran bread'\n",
            " 'white fibre wonder bread' 'focaccia' 'oat bran bread toasted'\n",
            " 'rye bread' 'wheat germ bread' 'protein bread toasted' 'oatmeal bread'\n",
            " 'arepa' 'raisin bread toasted' 'cracked wheat bread' 'garlic bread'\n",
            " 'rye bread toasted' 'whole wheat bread' 'whole wheat bread toasted'\n",
            " 'pan dulce bread' 'rice bran bread toasted' 'pita bread whole wheat'\n",
            " 'wheat germ bread toasted' 'pumpernickel bread' 'frybread'\n",
            " 'white bread toasted' 'piki bread' 'wheat bread toasted' 'pita bread'\n",
            " 'potato bread' 'egg bread' 'oatmeal bread toasted' 'cheese bread'\n",
            " 'pumpernickel bread toasted' 'raisin bread' 'pumpernickel roll'\n",
            " 'cinnamon raisin bagel' 'english muffin' 'rye dinner roll'\n",
            " 'english muffin whole wheat' 'dinner roll whole wheat' 'dinner roll'\n",
            " 'hotdog roll' 'bagel' 'oat bran bagel'\n",
            " 'pain au chocolat de la boulangerie' 'egg bagel' 'english muffin toasted'\n",
            " 'english muffin whole wheat toasted' 'biscuit' 'french roll'\n",
            " 'oat bran dinner roll' 'pecan shortbread cookies' 'oatmeal cookies'\n",
            " 'chocolate wafers' 'vanilla wafers low fat'\n",
            " 'chocolate chip cookies mcdonalds' 'gingersnap cookies'\n",
            " 'biscotti abbracci mulino bianco' 'chocolate chip cookie' 'brownie'\n",
            " 'shortbread cookies' 'oatmeal cookies with raisins'\n",
            " 'peanut butter sandwich cookies' 'sugar cookies'\n",
            " 'chocolate covered graham crackers' 'raisin cookies' 'vanilla wafers'\n",
            " 'graham crackers' 'peanut butter cookies' 'vanilla sandwich cookie'\n",
            " 'sugar wafers with creme filling' 'cheese puffs' 'saltine crackers'\n",
            " 'trail mix' 'corn cones' 'chocolate pretzels' 'french toast sticks'\n",
            " 'crackers' 'sesame sticks' 'cheese crackers' 'oriental rice cracker mix'\n",
            " 'breadsticks' 'milk crackers' 'matzo crackers whole wheat'\n",
            " 'matzo crackers with egg' 'granola bites' 'crackers whole wheat'\n",
            " 'tropical trail mix' 'soft pretzels' 'corn tostada shell'\n",
            " 'matzo crackers' 'sesame crunch' 'trail mix with chocolate chips'\n",
            " 'cracker meal' 'puffed rice' 'filinchen gutena' 'melba toast crackers'\n",
            " 'matzo crackers with egg onion' 'cornnuts' 'bagel chips' 'pretzels'\n",
            " 'potato raw' 'gatto di patate home made' 'baked potato' 'potato sticks'\n",
            " 'potato cooked' 'vivaldi potatoes sainsburys' 'potato ham chowder soup'\n",
            " 'russet potato raw' 'russet potato baked' 'french fries'\n",
            " 'potato scalloped' 'cottage fries' 'mashed potatoes'\n",
            " 'mashed potato with milk and butter' 'red potato raw' 'potato pancake'\n",
            " 'potato puffs' 'red potato baked' 'potatoes canned' 'potato skin raw'\n",
            " 'shoestring french fries' 'hash brown potato' 'baked chips lays'\n",
            " 'corn chips' 'nacho cheese tortilla chips low fat' 'corn chips barbecue'\n",
            " 'corn chips unsalted' 'potato chips fat free'\n",
            " 'sweet chilli kettle baked chips' 'taro chips' 'potato chips reduced fat'\n",
            " 'onion snacks' 'potato chips cheese' 'yuca cassava chips'\n",
            " 'tortilla chips low fat' 'ranch flavor tortilla chips' 'potato chips'\n",
            " 'tortilla chips' 'sweet potato chips' 'nacho cheese tortilla chips'\n",
            " 'vegetable chips' 'taco flavor tortilla chips' 'potato chips barbecue'\n",
            " 'pita chips' 'potato chips sour cream and onion' 'adobo fresco'\n",
            " 'chili pepper sauce red' 'creamy ranch sauce mcdonalds' 'catsup'\n",
            " 'chili pepper sauce green' 'red wine vinegar' 'fish sauce'\n",
            " 'coleslaw dressing reduced fat' 'sour dressing' 'guava sauce cooked'\n",
            " 'pizza sauce' 'sweetn sour sauce mcdonalds' 'nance syrup'\n",
            " 'french dressing reduced fat' 'peppercorn dressing' 'sorghum syrup'\n",
            " 'ranch dressing fat free' 'caesar dressing low calorie'\n",
            " 'sweet sour dressing' 'mayonnaise imitation fat free' 'sofrito'\n",
            " 'turkey gravy instant' 'teriyaki sauce' 'tomato sauce'\n",
            " 'barbecue sauce kraft' 'cranberry sauce sweetened' 'coleslaw dressing'\n",
            " 'onion gravy dry' 'corn syrup light' 'bacon tomato dressing'\n",
            " 'pancake syrup' 'balsamic vinegar' 'ranch dressing reduced fat'\n",
            " 'barbecue sauce mcdonalds' 'vinegar oil dressing' 'poppyseed dressing'\n",
            " 'honey mustard dressing' 'french dressing fat free' 'vinegar'\n",
            " 'spray dressing' 'honey mustard dressing fat free' 'mushroom gravy'\n",
            " 'white sauce' 'marinara pasta sauce' 'tomato sauce with mushrooms'\n",
            " 'pork gravy powder' 'beef gravy' 'green goddess dressing'\n",
            " 'salsa con queso' 'cocktail sauce' 'worcestershire sauce'\n",
            " 'barbecue sauce' 'tomato sauce with onions' 'brown gravy dry'\n",
            " 'blue cheese dressing light' 'spanish tomato sauce' 'oyster sauce'\n",
            " 'cheese sauce' 'hoisin sauce' 'pickle relish'\n",
            " 'tomato sauce with herbs cheese' 'french dressing' 'mayonnaise hellmanns'\n",
            " 'canadian maple syrup' 'maple syrup' 'barbecue sauce bulls eye'\n",
            " 'ranch dressing' 'tomato ketchup mp' 'mayonnaise light'\n",
            " 'mayonnaise dressing' 'malt syrup' 'gravy dry' 'cranberry orange relish'\n",
            " 'caesar dressing' 'italian dressing' 'brown gravy instant'\n",
            " 'roquefort cheese dressing' 'blue cheese dressing' 'duck sauce' 'au jus'\n",
            " 'corn syrup dark' 'buttermilk dressing light' 'cider vinegar'\n",
            " 'tartar sauce' 'pepper hot sauce' 'tomato chili sauce' 'turkey gravy dry'\n",
            " 'salsa sauce' 'steak sauce' 'molasses' 'italian dressing fat free'\n",
            " 'plum sauce' 'chow mein stir fry master foods' 'beef gravy instant'\n",
            " 'horseradish' 'grenadine' 'tabasco sauce' 'sweet sour sauce'\n",
            " 'salsa verde' 'miso' 'sprouted soybean cooked' 'soy flour roasted'\n",
            " 'soy flour low fat' 'green soybean cooked' 'azumaya tofu vitasoy'\n",
            " 'soy proteins isolate' 'tofu yogurt' 'bacon meatless'\n",
            " 'meatless chicken fried' 'soymilk' 'soy vermicelli' 'tofu fried' 'tempeh'\n",
            " 'koyadofu' 'meatless meatloaf' 'soya vanille joghurt alpro'\n",
            " 'soybean curd cheese' 'soy sauce' 'soybean dry roasted' 'soybean oil'\n",
            " 'meatless chicken' 'soybean cooked' 'soymilk nonfat' 'soy flour'\n",
            " 'soybean lecithin oil' 'tofu raw' 'soy chips' 'green soybean raw'\n",
            " 'soy proteins concentrate' 'soybean margarine' 'chocolate soymilk nonfat'\n",
            " 'okara' 'meatless meatballs' 'vanilla soymilk' 'soy meal raw'\n",
            " 'soymilk low fat' 'sprouted soybean raw' 'soybean raw' 'tempeh cooked'\n",
            " 'vanilla soymilk light' 'chocolate soymilk' 'soy oil' 'natto'\n",
            " 'chrysanthemum raw' 'gourd cooked' 'cauliflower raw' 'red cabbage raw'\n",
            " 'broccoli raab raw' 'napa cabbage cooked' 'kelp' 'shallots raw'\n",
            " 'bamboo shoots raw' 'jute cooked' 'red lettuce' 'broccoli cooked'\n",
            " 'romanesco raw' 'eggplant raw' 'leeks raw' 'lemongrass citronella'\n",
            " 'pumpkin cooked' 'celery cooked' 'serrano pepper' 'nopales raw'\n",
            " 'sweet potato leaves cooked' 'eggplant cooked' 'asparagus cooked'\n",
            " 'rutabaga cooked' 'parsnips raw' 'sour pickles' 'turnip greens cooked'\n",
            " 'jerusalem artichokes' 'collard raw' 'chrysanthemum cooked'\n",
            " 'oriental radish dried' 'tomatillos' 'taro shoots raw' 'acorn squash raw'\n",
            " 'leeks dried' 'cabbage raw' 'sweet red peppers cooked'\n",
            " 'sweet red peppers raw' 'cucumber peeled' 'purslane raw'\n",
            " 'peas onions cooked' 'tomato cooked' 'taro shoots cooked'\n",
            " 'scots kale raw' 'artichoke raw' 'navy bean sprouts raw' 'sweet pickles'\n",
            " 'oriental radish cooked' 'sweet potato leaves raw' 'irishmoss'\n",
            " 'drumstick leaves cooked' 'winter squash raw' 'pumpkin raw'\n",
            " 'chicory greens' 'spinach cooked' 'radish pickled' 'sweet onion'\n",
            " 'salsify cooked' 'radish seeds sprouted' 'turnips raw' 'burdock root raw'\n",
            " 'red cabbage cooked' 'jute raw' 'hot chile pepper dried' 'salsify raw'\n",
            " 'crookneck squash raw' 'indian squash cooked' 'poi'\n",
            " 'sesbania flower cooked' 'acorn squash cooked' 'cauliflower cooked'\n",
            " 'crookneck squash cooked' 'laver seaweed' 'mountain yam cooked'\n",
            " 'pumpkin flowers raw' 'mustard greens raw' 'arrowhead' 'japanese cabbage'\n",
            " 'mung bean sprouts cooked' 'scallop squash cooked'\n",
            " 'pumpkin leaves cooked' 'hungarian pepper' 'sweet potato baked'\n",
            " 'chinese cabbage pe tsai raw' 'taro raw' 'yam bean jicama' 'olives'\n",
            " 'mustard greens cooked' 'pumpkin flowers cooked' 'tree fern cooked'\n",
            " 'yellow corn raw' 'endive' 'wakame' 'tahitian taro raw' 'broccoli raw'\n",
            " 'sweet green peppers raw' 'chinese cabbage pak choi cooked' 'agar'\n",
            " 'watercress' 'beet greens cooked' 'winter squash cooked'\n",
            " 'new zealand spinach raw' 'okra' 'yautia tannier'\n",
            " 'mustard spinach cooked' 'rhubarb cooked' 'beets raw'\n",
            " 'drumstick pods raw' 'baby zucchini' 'onion raw' 'romanesco cooked'\n",
            " 'butternut squash raw' 'amaranth leaves' 'turnip greens raw'\n",
            " 'spaghetti squash raw' 'seaweed dry' 'yam cooked' 'corn dried' 'cucumber'\n",
            " 'arrowroot' 'cardoon raw' 'bamboo shoots cooked' 'summer squash raw'\n",
            " 'sweet potato raw' 'green tomato' 'beet greens raw'\n",
            " 'savoy cabbage cooked' 'witloof chicory' 'turnips cooked'\n",
            " 'dried tomatoes' 'radicchio' 'mixed vegetables cooked' 'yellow tomato'\n",
            " 'cardoon cooked' 'spinach raw' 'kale raw' 'drumstick pods cooked'\n",
            " 'kohlrabi raw' 'lentil sprouts' 'carrots raw' 'red chili peppers'\n",
            " 'fennel' 'sweet corn white' 'celeriac raw' 'hubbard squash raw'\n",
            " 'brussels sprouts cooked' 'carrots cooked' 'lambs quarters raw'\n",
            " 'lotus root cooked' 'split peas raw' 'scots kale cooked' 'corn cooked'\n",
            " 'radish raw' 'stinging nettles' 'baby carrots' 'sweet yellow peppers'\n",
            " 'taro leaves raw' 'corn raw' 'roselle' 'drumstick leaves raw'\n",
            " 'scallop squash raw' 'chicory roots' 'brussels sprouts raw' 'kale cooked'\n",
            " 'pupusas con frijoles' 'mustard cabbage' 'gourd raw'\n",
            " 'butternut squash cooked' 'burdock root cooked' 'cassava'\n",
            " 'peas carrots cooked' 'romaine lettuce' 'yam raw' 'chowchow pickles'\n",
            " 'prairie turnips raw' 'savoy cabbage raw' 'celery raw' 'celeriac cooked'\n",
            " 'mustard spinach raw' 'zucchini raw' 'okra cooked' 'white icicle radish'\n",
            " 'orange tomato' 'pumpkin leaves raw' 'spaghetti squash cooked'\n",
            " 'white corn cooked' 'artichoke cooked' 'avocado'\n",
            " 'string beans wellsley farms' 'lambs quarters cooked' 'peas cooked'\n",
            " 'beets cooked' 'shallots dried' 'green lettuce' 'kohlrabi cooked'\n",
            " 'kanpyo dried' 'prairie turnips boiled' 'broccoli raab cooked'\n",
            " 'summer squash cooked' 'taro cooked' 'spring onion scallions'\n",
            " 'hubbard squash cooked' 'jalapeno pepper' 'new zealand spinach cooked'\n",
            " 'sesbania flower raw' 'spirulina dried' 'chinese cabbage pe tsai cooked'\n",
            " 'zucchini cooked' 'green olives pickled' 'lotus root raw' 'grape leaves'\n",
            " 'dill pickled cucumber' 'skunk cabbage' 'banana pepper'\n",
            " 'oriental radish raw' 'purslane cooked' 'rhubarb raw' 'swamp cabbage'\n",
            " 'mung bean sprouts raw' 'onion cooked' 'swiss chard raw' 'peas raw'\n",
            " 'cabbage cooked' 'taro leaves cooked' 'leeks cooked' 'split peas cooked'\n",
            " 'sweet corn yellow' 'asparagus raw' 'collard cooked' 'swiss chard cooked'\n",
            " 'nopales cooked' 'tahitian taro cooked' 'chinese cabbage pak choi raw'\n",
            " 'green chili pepper' 'mountain yam raw' 'parsnips cooked' 'tomato stewed'\n",
            " 'sweet green peppers cooked' 'white corn raw' 'rutabaga raw'\n",
            " 'jalapeno peppers canned' 'pumpkin canned' 'peas onions canned'\n",
            " 'sweet mashed potato canned' 'hominy canned' 'tomato puree canned'\n",
            " 'dried tomatoes canned in oil' 'mixed vegetables canned'\n",
            " 'straw mushrooms canned' 'capers canned' 'red peppers canned'\n",
            " 'carrots canned' 'tomatoes in tomato juice canned' 'asparagus canned'\n",
            " 'sweet red peppers canned' 'onions canned' 'turnip greens canned'\n",
            " 'hearts of palm' 'spinach canned' 'sweet potato canned' 'corn canned'\n",
            " 'peas carrots canned' 'crookneck squash canned' 'tomatoes canned'\n",
            " 'pimento canned' 'sweet green peppers canned' 'peas canned'\n",
            " 'chili peppers canned' 'green peppers canned' 'grape leaves canned'\n",
            " 'sauerkraut canned' 'beets canned' 'stewed tomatoes canned'\n",
            " 'tomato paste canned' 'bacon ranch salad mcdonalds'\n",
            " 'caesar salad with grilled chicken mcdonalds' 'caesar salad mcdonalds'\n",
            " 'vegetable salad' 'vegetable salad with chicken' 'potato salad'\n",
            " 'taco salad taco bell' 'iceberg lettuce' 'cornsalad'\n",
            " 'potato salad with egg' 'side salad mcdonalds'\n",
            " 'caesar salad with crispy chicken mcdonalds'\n",
            " 'grape apple salad with walnuts' 'vegetable salad with cheese egg'\n",
            " 'celtuce' 'arugula' 'vegetable salad with shrimp' 'coleslaw'\n",
            " 'shiitake mushrooms cooked' 'shiitake mushrooms raw' 'crimini mushrooms'\n",
            " 'mushrooms raw' 'portabella mushrooms grilled' 'maitake mushrooms'\n",
            " 'shiitake mushrooms dried' 'chanterelle mushrooms'\n",
            " 'cloud ear fungus dried' 'mushrooms cooked' 'pepeao dried' 'truffles'\n",
            " 'jews ear' 'enoki mushrooms' 'morel mushrooms' 'portabella mushrooms raw'\n",
            " 'oyster mushroom']\n",
            "\n",
            "Number of unique values:  722\n"
          ]
        }
      ]
    },
    {
      "cell_type": "markdown",
      "source": [
        "There are 722 unique values in the column food"
      ],
      "metadata": {
        "id": "2zlOUFl2xffN"
      }
    },
    {
      "cell_type": "markdown",
      "source": [
        " **For a numerical column of your choice, calculate the mean, median, and\n",
        "standard deviation.**\n"
      ],
      "metadata": {
        "id": "rTedOUqPx9Mk"
      }
    },
    {
      "cell_type": "code",
      "source": [
        "#selecting numerical column\n",
        "num_col = 'Vitamin K'\n",
        "\n",
        "# Calculating mean\n",
        "print(\"Mean:\", df[num_col].mean())\n",
        "\n",
        "#Median\n",
        "print(\"Median:\", df[num_col].median())\n",
        "\n",
        "#Standard Deviation\n",
        "print(\"Standard Deviation:\", df[num_col].std())"
      ],
      "metadata": {
        "colab": {
          "base_uri": "https://localhost:8080/"
        },
        "id": "EbLR9RJOvMOE",
        "outputId": "f8df367b-f8b7-47a3-a147-baf24bff6ee5"
      },
      "execution_count": null,
      "outputs": [
        {
          "output_type": "stream",
          "name": "stdout",
          "text": [
            "Mean: 0.18084487534626043\n",
            "Median: 0.031\n",
            "Standard Deviation: 0.6322358961101077\n"
          ]
        }
      ]
    },
    {
      "cell_type": "markdown",
      "source": [
        "**Identify any potential outliers in a numerical column of your choice. Explain\n",
        "your approach.**"
      ],
      "metadata": {
        "id": "CCrMVnjWzggW"
      }
    },
    {
      "cell_type": "code",
      "source": [
        "#selecting numerical column\n",
        "num_col = 'Zinc'\n",
        "\n",
        "# Calculate Q1 (25th percentile) and Q3 (75th percentile)\n",
        "Q1 = df[num_col].quantile(0.25)\n",
        "Q3 = df[num_col].quantile(0.75)\n",
        "\n",
        "# Calculate the IQR\n",
        "IQR = Q3 - Q1\n",
        "print(\"IQR = \",IQR)\n",
        "# Determine the lower and upper bounds for outliers\n",
        "print(\"\\nLower Bound\",Q1 - 1.5 * IQR)\n",
        "print(\"\\nUpper Bound\", Q3 + 1.5 * IQR)\n",
        "\n",
        "# Identify outliers\n",
        "outliers = df[(df[num_col] < lower_bound) | (df[num_col] > upper_bound)]\n",
        "\n",
        "# Print the outliers\n",
        "print(\"\\nOutliers in \",num_col)\n",
        "print(outliers)\n"
      ],
      "metadata": {
        "colab": {
          "base_uri": "https://localhost:8080/"
        },
        "id": "uJpXqC4fyOi9",
        "outputId": "f319dd4c-3ee6-48eb-c630-113be6587e0a"
      },
      "execution_count": null,
      "outputs": [
        {
          "output_type": "stream",
          "name": "stdout",
          "text": [
            "IQR =  0.365\n",
            "\n",
            "Lower Bound -0.5125\n",
            "\n",
            "Upper Bound 0.9475\n",
            "\n",
            "Outliers in  Zinc\n",
            "     Unnamed: 0.1  Unnamed: 0                      food  Caloric Value   Fat  \\\n",
            "8               8           8             sesame butter             94   8.1   \n",
            "61             61          61            corn pasta dry            375   2.2   \n",
            "69             69          69  whole wheat macaroni dry            365   1.5   \n",
            "71             71          71              macaroni raw            390   1.6   \n",
            "75             75          75              pasta cooked            301   2.4   \n",
            "..            ...         ...                       ...            ...   ...   \n",
            "666           666         666          asparagus canned             62   0.7   \n",
            "671           671         671            spinach canned             44   0.9   \n",
            "672           672         672       sweet potato canned            568   1.3   \n",
            "686           686         686       tomato paste canned            215   1.2   \n",
            "693           693         693      taco salad taco bell            906  48.9   \n",
            "\n",
            "     Saturated Fats  Monounsaturated Fats  Polyunsaturated Fats  \\\n",
            "8               1.1                 3.100                   3.6   \n",
            "61              0.3                 0.600                   1.0   \n",
            "69              0.3                 0.200                   0.6   \n",
            "71              0.3                 0.200                   0.6   \n",
            "75              0.3                 0.300                   1.0   \n",
            "..              ...                   ...                   ...   \n",
            "666             0.2                 0.015                   0.3   \n",
            "671             0.1                 0.074                   0.4   \n",
            "672             0.3                 0.080                   0.5   \n",
            "686             0.3                 0.200                   0.4   \n",
            "693            15.9                21.200                   4.0   \n",
            "\n",
            "     Carbohydrates  Sugars  ...  Calcium  Copper  Iron  Magnesium  Manganese  \\\n",
            "8              3.8     0.0  ...    153.6     0.7   3.1       57.9        0.4   \n",
            "61            83.2     0.0  ...      4.2     0.2   1.0      125.0        0.5   \n",
            "69            78.8     0.0  ...     42.0     0.5   3.8      150.2        3.2   \n",
            "71            78.4     2.8  ...     22.1     0.3   3.5       55.7        1.0   \n",
            "75            57.3     0.0  ...     13.8     0.2   2.6       41.4        0.5   \n",
            "..             ...     ...  ...      ...     ...   ...        ...        ...   \n",
            "666           10.2     4.1  ...     61.7     0.4   2.5       37.0        0.6   \n",
            "671            6.8     0.0  ...    194.2     0.3   3.7      131.0        1.2   \n",
            "672          133.5    98.3  ...     95.7     0.8   5.1       82.9        3.2   \n",
            "686           49.5    31.9  ...     94.3     1.0   7.8      110.0        0.8   \n",
            "693           80.5     0.0  ...    506.4     0.8   9.4      143.9        1.4   \n",
            "\n",
            "     Phosphorus  Potassium  Selenium  Zinc  Nutrition Density  \n",
            "8         105.4       93.1     0.088   1.2            172.400  \n",
            "61        265.7      308.7     0.090   1.9            110.000  \n",
            "69        270.9      225.8     0.000   2.5            150.200  \n",
            "71        198.5      234.2     0.073   1.5            122.700  \n",
            "75        144.9       55.2     0.000   1.3             87.985  \n",
            "..          ...        ...       ...   ...                ...  \n",
            "666       156.2      706.9     0.025   1.9            154.400  \n",
            "671        74.9      538.2     0.053   1.0            245.800  \n",
            "672       172.3     1180.3     0.037   1.2            324.900  \n",
            "686       217.5     2656.7     0.070   1.7            232.200  \n",
            "693       549.0     1220.6     0.095   6.2            696.900  \n",
            "\n",
            "[66 rows x 37 columns]\n"
          ]
        }
      ]
    },
    {
      "cell_type": "markdown",
      "source": [
        "Any values lower than lower bound and greater than upperbound are outliers"
      ],
      "metadata": {
        "id": "5pr6ZIV51Lmk"
      }
    },
    {
      "cell_type": "markdown",
      "source": [
        "**Find the correlation between numerical columns and discuss any interesting\n",
        "relationships.**"
      ],
      "metadata": {
        "id": "D6RgCs5Z149d"
      }
    },
    {
      "cell_type": "code",
      "source": [
        "# Selecting numerical column\n",
        "numerical_df = df.select_dtypes(include=['number'])\n",
        "\n",
        "# Calculating correlation matrix\n",
        "correlation_matrix = numerical_df.corr()\n",
        "\n",
        "# correlation matrix\n",
        "print(\"Correlation Matrix:\")\n",
        "print(correlation_matrix)\n"
      ],
      "metadata": {
        "colab": {
          "base_uri": "https://localhost:8080/"
        },
        "id": "Lm6KmSim0nfl",
        "outputId": "1c99ddb0-0498-496a-a480-12585ab1c4e7"
      },
      "execution_count": null,
      "outputs": [
        {
          "output_type": "stream",
          "name": "stdout",
          "text": [
            "Correlation Matrix:\n",
            "                      Unnamed: 0.1  Unnamed: 0  Caloric Value       Fat  \\\n",
            "Unnamed: 0.1              1.000000    1.000000      -0.243587 -0.230824   \n",
            "Unnamed: 0                1.000000    1.000000      -0.243587 -0.230824   \n",
            "Caloric Value            -0.243587   -0.243587       1.000000  0.880499   \n",
            "Fat                      -0.230824   -0.230824       0.880499  1.000000   \n",
            "Saturated Fats           -0.172714   -0.172714       0.692775  0.843804   \n",
            "Monounsaturated Fats     -0.259062   -0.259062       0.738356  0.812784   \n",
            "Polyunsaturated Fats     -0.169602   -0.169602       0.675207  0.697706   \n",
            "Carbohydrates            -0.116083   -0.116083       0.573389  0.132991   \n",
            "Sugars                    0.089851    0.089851       0.157132 -0.024324   \n",
            "Protein                   0.029889    0.029889       0.423404  0.152858   \n",
            "Dietary Fiber             0.225389    0.225389       0.315062  0.042817   \n",
            "Cholesterol              -0.081507   -0.081507       0.338563  0.406905   \n",
            "Sodium                    0.003102    0.003102       0.153261  0.119935   \n",
            "Water                     0.469546    0.469546       0.007092 -0.090990   \n",
            "Vitamin A                -0.152443   -0.152443      -0.001398  0.027192   \n",
            "Vitamin B1               -0.055802   -0.055802       0.299072  0.116207   \n",
            "Vitamin B11               0.150336    0.150336       0.140490 -0.046720   \n",
            "Vitamin B12               0.089538    0.089538      -0.032069 -0.043151   \n",
            "Vitamin B2               -0.011442   -0.011442       0.365940  0.139368   \n",
            "Vitamin B3               -0.049871   -0.049871       0.426603  0.151809   \n",
            "Vitamin B5                0.215348    0.215348       0.138672 -0.002242   \n",
            "Vitamin B6                0.233461    0.233461       0.159670  0.034023   \n",
            "Vitamin C                 0.222031    0.222031       0.005625 -0.024413   \n",
            "Vitamin D                 0.188387    0.188387      -0.048318 -0.048600   \n",
            "Vitamin E                -0.094478   -0.094478       0.389210  0.442634   \n",
            "Vitamin K                 0.089039    0.089039      -0.006227 -0.010994   \n",
            "Calcium                   0.108081    0.108081       0.246249  0.099942   \n",
            "Copper                    0.152492    0.152492      -0.015035 -0.045408   \n",
            "Iron                      0.020521    0.020521       0.370805  0.116231   \n",
            "Magnesium                 0.055715    0.055715       0.369905  0.127704   \n",
            "Manganese                 0.208383    0.208383      -0.002799 -0.046406   \n",
            "Phosphorus               -0.027667   -0.027667       0.455060  0.176357   \n",
            "Potassium                 0.153658    0.153658       0.337209  0.093303   \n",
            "Selenium                  0.255773    0.255773      -0.034952 -0.056651   \n",
            "Zinc                      0.009381    0.009381       0.408075  0.137166   \n",
            "Nutrition Density         0.080935    0.080935       0.497345  0.283315   \n",
            "\n",
            "                      Saturated Fats  Monounsaturated Fats  \\\n",
            "Unnamed: 0.1               -0.172714             -0.259062   \n",
            "Unnamed: 0                 -0.172714             -0.259062   \n",
            "Caloric Value               0.692775              0.738356   \n",
            "Fat                         0.843804              0.812784   \n",
            "Saturated Fats              1.000000              0.526905   \n",
            "Monounsaturated Fats        0.526905              1.000000   \n",
            "Polyunsaturated Fats        0.279759              0.611190   \n",
            "Carbohydrates               0.014311              0.143104   \n",
            "Sugars                     -0.030915             -0.026166   \n",
            "Protein                     0.017933              0.127687   \n",
            "Dietary Fiber              -0.022452              0.041614   \n",
            "Cholesterol                 0.218029              0.379320   \n",
            "Sodium                      0.022095              0.275018   \n",
            "Water                      -0.076318             -0.107206   \n",
            "Vitamin A                   0.006902              0.053093   \n",
            "Vitamin B1                  0.018198              0.091257   \n",
            "Vitamin B11                -0.068713             -0.073655   \n",
            "Vitamin B12                -0.045552             -0.035025   \n",
            "Vitamin B2                  0.013026              0.111392   \n",
            "Vitamin B3                  0.032276              0.130927   \n",
            "Vitamin B5                 -0.031665             -0.004726   \n",
            "Vitamin B6                 -0.021538              0.038133   \n",
            "Vitamin C                  -0.025261             -0.048884   \n",
            "Vitamin D                  -0.032968             -0.052268   \n",
            "Vitamin E                   0.475557              0.251400   \n",
            "Vitamin K                  -0.028814              0.024724   \n",
            "Calcium                     0.007830              0.122821   \n",
            "Copper                     -0.037347             -0.060030   \n",
            "Iron                        0.009341              0.119256   \n",
            "Magnesium                   0.015117              0.113373   \n",
            "Manganese                  -0.043335             -0.048989   \n",
            "Phosphorus                  0.033327              0.162840   \n",
            "Potassium                   0.011755              0.052839   \n",
            "Selenium                   -0.045998             -0.048915   \n",
            "Zinc                        0.019049              0.127751   \n",
            "Nutrition Density           0.151130              0.261935   \n",
            "\n",
            "                      Polyunsaturated Fats  Carbohydrates    Sugars   Protein  \\\n",
            "Unnamed: 0.1                     -0.169602      -0.116083  0.089851  0.029889   \n",
            "Unnamed: 0                       -0.169602      -0.116083  0.089851  0.029889   \n",
            "Caloric Value                     0.675207       0.573389  0.157132  0.423404   \n",
            "Fat                               0.697706       0.132991 -0.024324  0.152858   \n",
            "Saturated Fats                    0.279759       0.014311 -0.030915  0.017933   \n",
            "Monounsaturated Fats              0.611190       0.143104 -0.026166  0.127687   \n",
            "Polyunsaturated Fats              1.000000       0.202628 -0.007419  0.231066   \n",
            "Carbohydrates                     0.202628       1.000000  0.412844  0.452449   \n",
            "Sugars                           -0.007419       0.412844  1.000000  0.079589   \n",
            "Protein                           0.231066       0.452449  0.079589  1.000000   \n",
            "Dietary Fiber                     0.086489       0.552864  0.303318  0.528506   \n",
            "Cholesterol                       0.421077      -0.002718 -0.011478  0.029917   \n",
            "Sodium                            0.048813       0.114169  0.028862  0.063246   \n",
            "Water                            -0.081585       0.165794  0.310815  0.189807   \n",
            "Vitamin A                         0.017382      -0.046587 -0.024060 -0.042841   \n",
            "Vitamin B1                        0.182455       0.364423  0.049222  0.487834   \n",
            "Vitamin B11                       0.007544       0.308969  0.106448  0.487745   \n",
            "Vitamin B12                      -0.038368       0.007755  0.021727  0.037690   \n",
            "Vitamin B2                        0.225389       0.439677  0.162417  0.642799   \n",
            "Vitamin B3                        0.211756       0.579384  0.111396  0.560659   \n",
            "Vitamin B5                        0.017461       0.272699  0.148285  0.300107   \n",
            "Vitamin B6                        0.063811       0.280579  0.075456  0.241417   \n",
            "Vitamin C                        -0.005599       0.068011  0.087239  0.041331   \n",
            "Vitamin D                        -0.044709      -0.003282  0.046985 -0.007850   \n",
            "Vitamin E                         0.231238       0.072712  0.102090  0.062047   \n",
            "Vitamin K                        -0.013292       0.024664  0.038973 -0.019325   \n",
            "Calcium                           0.135212       0.262405  0.118164  0.529801   \n",
            "Copper                           -0.023690       0.051192  0.164155  0.053195   \n",
            "Iron                              0.175510       0.466089  0.160758  0.740705   \n",
            "Magnesium                         0.210209       0.468383  0.125239  0.698119   \n",
            "Manganese                        -0.029834       0.078634  0.061321  0.098385   \n",
            "Phosphorus                        0.255931       0.534271  0.113825  0.830530   \n",
            "Potassium                         0.167251       0.498896  0.224617  0.563066   \n",
            "Selenium                         -0.054087       0.044363  0.062141  0.017508   \n",
            "Zinc                              0.191565       0.514453  0.131672  0.765109   \n",
            "Nutrition Density                 0.282340       0.491724  0.206913  0.611095   \n",
            "\n",
            "                      ...   Calcium    Copper      Iron  Magnesium  Manganese  \\\n",
            "Unnamed: 0.1          ...  0.108081  0.152492  0.020521   0.055715   0.208383   \n",
            "Unnamed: 0            ...  0.108081  0.152492  0.020521   0.055715   0.208383   \n",
            "Caloric Value         ...  0.246249 -0.015035  0.370805   0.369905  -0.002799   \n",
            "Fat                   ...  0.099942 -0.045408  0.116231   0.127704  -0.046406   \n",
            "Saturated Fats        ...  0.007830 -0.037347  0.009341   0.015117  -0.043335   \n",
            "Monounsaturated Fats  ...  0.122821 -0.060030  0.119256   0.113373  -0.048989   \n",
            "Polyunsaturated Fats  ...  0.135212 -0.023690  0.175510   0.210209  -0.029834   \n",
            "Carbohydrates         ...  0.262405  0.051192  0.466089   0.468383   0.078634   \n",
            "Sugars                ...  0.118164  0.164155  0.160758   0.125239   0.061321   \n",
            "Protein               ...  0.529801  0.053195  0.740705   0.698119   0.098385   \n",
            "Dietary Fiber         ...  0.349699  0.127945  0.444641   0.499777   0.238569   \n",
            "Cholesterol           ...  0.017406 -0.030290 -0.002579  -0.013789  -0.036886   \n",
            "Sodium                ...  0.178875 -0.021711  0.194675   0.072417  -0.027133   \n",
            "Water                 ...  0.302919  0.266300  0.154274   0.143284   0.289458   \n",
            "Vitamin A             ... -0.029123 -0.030291 -0.041690  -0.041961  -0.037688   \n",
            "Vitamin B1            ...  0.213494 -0.074417  0.472931   0.357162  -0.093898   \n",
            "Vitamin B11           ...  0.235746  0.221377  0.402068   0.343367   0.376433   \n",
            "Vitamin B12           ... -0.119770  0.380796 -0.120697  -0.160655   0.535031   \n",
            "Vitamin B2            ...  0.516321 -0.153738  0.711269   0.635698  -0.185547   \n",
            "Vitamin B3            ...  0.281576 -0.116618  0.544683   0.408954  -0.134921   \n",
            "Vitamin B5            ...  0.061509  0.351859  0.133482   0.164327   0.429515   \n",
            "Vitamin B6            ...  0.076318  0.158639  0.173271   0.206224   0.382607   \n",
            "Vitamin C             ...  0.195590 -0.085271  0.104120   0.149893  -0.099965   \n",
            "Vitamin D             ... -0.102808  0.359600 -0.094962  -0.097920   0.449147   \n",
            "Vitamin E             ...  0.051696 -0.066382  0.107662   0.098672  -0.079173   \n",
            "Vitamin K             ... -0.072684  0.438166 -0.079800  -0.082467   0.445464   \n",
            "Calcium               ...  1.000000 -0.123183  0.613135   0.570308  -0.138417   \n",
            "Copper                ... -0.123183  1.000000 -0.105385  -0.110994   0.688854   \n",
            "Iron                  ...  0.613135 -0.105385  1.000000   0.773507  -0.106358   \n",
            "Magnesium             ...  0.570308 -0.110994  0.773507   1.000000  -0.115965   \n",
            "Manganese             ... -0.138417  0.688854 -0.106358  -0.115965   1.000000   \n",
            "Phosphorus            ...  0.569760 -0.130301  0.768269   0.839684  -0.140667   \n",
            "Potassium             ...  0.498743 -0.073420  0.616331   0.724684  -0.063957   \n",
            "Selenium              ... -0.156727  0.562657 -0.133246  -0.146039   0.803167   \n",
            "Zinc                  ...  0.501555 -0.111276  0.751060   0.809905  -0.119463   \n",
            "Nutrition Density     ...  0.916548 -0.105536  0.672427   0.649775  -0.109147   \n",
            "\n",
            "                      Phosphorus  Potassium  Selenium      Zinc  \\\n",
            "Unnamed: 0.1           -0.027667   0.153658  0.255773  0.009381   \n",
            "Unnamed: 0             -0.027667   0.153658  0.255773  0.009381   \n",
            "Caloric Value           0.455060   0.337209 -0.034952  0.408075   \n",
            "Fat                     0.176357   0.093303 -0.056651  0.137166   \n",
            "Saturated Fats          0.033327   0.011755 -0.045998  0.019049   \n",
            "Monounsaturated Fats    0.162840   0.052839 -0.048915  0.127751   \n",
            "Polyunsaturated Fats    0.255931   0.167251 -0.054087  0.191565   \n",
            "Carbohydrates           0.534271   0.498896  0.044363  0.514453   \n",
            "Sugars                  0.113825   0.224617  0.062141  0.131672   \n",
            "Protein                 0.830530   0.563066  0.017508  0.765109   \n",
            "Dietary Fiber           0.523699   0.611574  0.245166  0.532147   \n",
            "Cholesterol             0.010956  -0.005830 -0.037893  0.012354   \n",
            "Sodium                  0.074791   0.085069 -0.028964  0.065619   \n",
            "Water                   0.129372   0.310956  0.344675  0.124354   \n",
            "Vitamin A              -0.030826  -0.041385 -0.040145 -0.038860   \n",
            "Vitamin B1              0.460868   0.368950 -0.110082  0.413782   \n",
            "Vitamin B11             0.375809   0.346989  0.282109  0.374758   \n",
            "Vitamin B12            -0.089204  -0.131785  0.476237 -0.108483   \n",
            "Vitamin B2              0.709038   0.575995 -0.209748  0.633929   \n",
            "Vitamin B3              0.525495   0.535574 -0.152378  0.442599   \n",
            "Vitamin B5              0.167859   0.238426  0.508497  0.179132   \n",
            "Vitamin B6              0.218054   0.334670  0.450245  0.164040   \n",
            "Vitamin C               0.107355   0.321206 -0.105826  0.077413   \n",
            "Vitamin D              -0.110609  -0.064108  0.568170 -0.097513   \n",
            "Vitamin E               0.106492   0.161058 -0.083573  0.062737   \n",
            "Vitamin K              -0.106015  -0.057562  0.529221 -0.091509   \n",
            "Calcium                 0.569760   0.498743 -0.156727  0.501555   \n",
            "Copper                 -0.130301  -0.073420  0.562657 -0.111276   \n",
            "Iron                    0.768269   0.616331 -0.133246  0.751060   \n",
            "Magnesium               0.839684   0.724684 -0.146039  0.809905   \n",
            "Manganese              -0.140667  -0.063957  0.803167 -0.119463   \n",
            "Phosphorus              1.000000   0.681347 -0.168205  0.864380   \n",
            "Potassium               0.681347   1.000000 -0.090399  0.596794   \n",
            "Selenium               -0.168205  -0.090399  1.000000 -0.146879   \n",
            "Zinc                    0.864380   0.596794 -0.146879  1.000000   \n",
            "Nutrition Density       0.668941   0.632859 -0.138003  0.595900   \n",
            "\n",
            "                      Nutrition Density  \n",
            "Unnamed: 0.1                   0.080935  \n",
            "Unnamed: 0                     0.080935  \n",
            "Caloric Value                  0.497345  \n",
            "Fat                            0.283315  \n",
            "Saturated Fats                 0.151130  \n",
            "Monounsaturated Fats           0.261935  \n",
            "Polyunsaturated Fats           0.282340  \n",
            "Carbohydrates                  0.491724  \n",
            "Sugars                         0.206913  \n",
            "Protein                        0.611095  \n",
            "Dietary Fiber                  0.497310  \n",
            "Cholesterol                    0.080618  \n",
            "Sodium                         0.193305  \n",
            "Water                          0.356649  \n",
            "Vitamin A                     -0.038023  \n",
            "Vitamin B1                     0.312645  \n",
            "Vitamin B11                    0.294796  \n",
            "Vitamin B12                   -0.133546  \n",
            "Vitamin B2                     0.594048  \n",
            "Vitamin B3                     0.448599  \n",
            "Vitamin B5                     0.135484  \n",
            "Vitamin B6                     0.173337  \n",
            "Vitamin C                      0.417594  \n",
            "Vitamin D                     -0.100420  \n",
            "Vitamin E                      0.155065  \n",
            "Vitamin K                     -0.063127  \n",
            "Calcium                        0.916548  \n",
            "Copper                        -0.105536  \n",
            "Iron                           0.672427  \n",
            "Magnesium                      0.649775  \n",
            "Manganese                     -0.109147  \n",
            "Phosphorus                     0.668941  \n",
            "Potassium                      0.632859  \n",
            "Selenium                      -0.138003  \n",
            "Zinc                           0.595900  \n",
            "Nutrition Density              1.000000  \n",
            "\n",
            "[36 rows x 36 columns]\n"
          ]
        }
      ]
    },
    {
      "cell_type": "markdown",
      "source": [
        "**+1**: Perfect positive correlation (as one variable increases, the other also increases).\n",
        "\n",
        "**-1**: Perfect negative correlation (as one variable increases, the other decreases).\n",
        "\n",
        "**0**: No correlation (no linear relationship between the variables).\n",
        "\n",
        "  -0.030915 is the correlation of Sugar and Saturated Fats.This shows that as the amount of sugar increases ,the saturated fat per intake decreases\n",
        "\n",
        "   -0.002799 is between manganese and calorific value. Since the value is near to 0 there is no significant relation\n",
        "   \n",
        "    "
      ],
      "metadata": {
        "id": "gEWrec_E7j31"
      }
    },
    {
      "cell_type": "markdown",
      "source": [
        "**8: Group the data by a categorical column and compute the aggregate statistics\n",
        "(e.g., mean, sum) for a numerical column.**"
      ],
      "metadata": {
        "id": "bGCdWKaV81et"
      }
    },
    {
      "cell_type": "code",
      "source": [
        "# Group by the categorical column 'Category' and compute the mean and sum for 'Value'\n",
        "aggregate_stats = df.groupby('food')['Nutrition Density'].agg(['mean', 'sum'])\n",
        "\n",
        "print(\"Aggregate Statistics:\")\n",
        "print(aggregate_stats)\n"
      ],
      "metadata": {
        "colab": {
          "base_uri": "https://localhost:8080/"
        },
        "id": "aNFfctq02DU3",
        "outputId": "7060f894-28c4-4c25-b97d-13f89288a7e1"
      },
      "execution_count": null,
      "outputs": [
        {
          "output_type": "stream",
          "name": "stdout",
          "text": [
            "Aggregate Statistics:\n",
            "                        mean      sum\n",
            "food                                 \n",
            "acorn squash cooked  155.700  155.700\n",
            "acorn squash raw     247.800  247.800\n",
            "adobo fresco         503.400  503.400\n",
            "agar                   0.587    0.587\n",
            "almond butter         73.000   73.000\n",
            "...                      ...      ...\n",
            "yellow tomato         10.800   10.800\n",
            "yuca cassava chips     2.621    2.621\n",
            "zucchini cooked       65.600   65.600\n",
            "zucchini raw          15.151   15.151\n",
            "zwieback               7.083    7.083\n",
            "\n",
            "[722 rows x 2 columns]\n"
          ]
        }
      ]
    },
    {
      "cell_type": "markdown",
      "source": [
        "## Q9:: Based on your analysis, provide a brief summary of any insights or patterns you discovered in the dataset."
      ],
      "metadata": {
        "id": "Tg-sWyhsU9Z-"
      }
    },
    {
      "cell_type": "markdown",
      "source": [
        "\n",
        "\n",
        "*   722 x 37 is the size of dataset\n",
        "*   There are 722 unique values in the column food\n",
        "*   A list of food items that are outliers based on their Zinc content, compared to the overall data distribution. Foods like \"sesame butter\" and \"taco salad taco bell\" have been flagged as outliers.\n",
        "*   -0.030915 is the correlation of Sugar and Saturated Fats.This shows that as the amount of sugar increases ,the saturated fat per intake decreases\n",
        "\n",
        "-0.002799 is between manganese and calorific value. Since the value is near to 0 there is no significant relation\n",
        "\n",
        "\n",
        "\n"
      ],
      "metadata": {
        "id": "bE_ioOn5WIAJ"
      }
    },
    {
      "cell_type": "code",
      "source": [],
      "metadata": {
        "id": "zqthbBVO9GbU"
      },
      "execution_count": null,
      "outputs": []
    }
  ]
}